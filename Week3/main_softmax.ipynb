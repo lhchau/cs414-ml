{
 "cells": [
  {
   "cell_type": "code",
   "execution_count": null,
   "metadata": {},
   "outputs": [],
   "source": [
    "import numpy as np\n",
    "\n",
    "def sigmoid(x):\n",
    "    return 1/(1+np.exp(-x))"
   ]
  },
  {
   "cell_type": "code",
   "execution_count": null,
   "metadata": {},
   "outputs": [],
   "source": [
    "feature_size = 2\n",
    "data_size = 1000\n",
    "x_ori = np.random.normal(loc=0, scale=1, size=(feature_size, data_size))\n",
    "x = np.concatenate([np.ones((1, data_size)), x_ori])\n",
    "\n",
    "theta_ori = np.arange(start=4, stop=4+feature_size)\n",
    "z = theta_ori.T @ x_ori + 3\n",
    "z = z.squeeze()\n",
    "pr = sigmoid(z)\n",
    "y = np.random.binomial(n=1, p=pr)\n",
    "\n",
    "theta = np.random.random(size=(feature_size+1))\n",
    "# learning_rate = 1/np.mean(x**2)\n",
    "learning_rate = 0.01\n",
    "tolerance = 0.01\n",
    "cnt = 0\n",
    "while True:\n",
    "    cnt += 1\n",
    "    print(sigmoid(theta.T @ x))\n",
    "    dtheta = np.mean(x * (sigmoid(theta.T @ x) - y), axis=1)\n",
    "    theta = theta - learning_rate * dtheta\n",
    "    if (abs(dtheta) - tolerance < 0).all():\n",
    "        break    \n",
    "    \n",
    "print(cnt)\n",
    "print(theta)"
   ]
  }
 ],
 "metadata": {
  "language_info": {
   "name": "python"
  },
  "orig_nbformat": 4
 },
 "nbformat": 4,
 "nbformat_minor": 2
}
