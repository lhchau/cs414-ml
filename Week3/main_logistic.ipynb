{
 "cells": [
  {
   "cell_type": "code",
   "execution_count": 2,
   "metadata": {},
   "outputs": [],
   "source": [
    "import numpy as np\n",
    "\n",
    "def sigmoid(x):\n",
    "    return 1/(1+np.exp(-x))"
   ]
  },
  {
   "cell_type": "code",
   "execution_count": 6,
   "metadata": {},
   "outputs": [
    {
     "name": "stdout",
     "output_type": "stream",
     "text": [
      "117478\n",
      "[2.8940448  3.94087503 4.85019894]\n"
     ]
    }
   ],
   "source": [
    "feature_size = 2\n",
    "data_size = 1000\n",
    "x_ori = np.random.normal(loc=0, scale=1, size=(feature_size, data_size))\n",
    "x = np.concatenate([np.ones((1, data_size)), x_ori])\n",
    "\n",
    "theta_ori = np.arange(start=4, stop=4+feature_size)\n",
    "z = theta_ori.T @ x_ori + 3\n",
    "z = z.squeeze()\n",
    "pr = sigmoid(z)\n",
    "y = np.random.binomial(n=1, p=pr)\n",
    "\n",
    "theta = np.random.random(size=(feature_size+1))\n",
    "# learning_rate = 1/np.mean(x**2) \n",
    "learning_rate = 0.01\n",
    "tolerance = 0.0001\n",
    "cnt = 0\n",
    "while True:\n",
    "    cnt += 1\n",
    "    dtheta = np.mean(x * (sigmoid(theta.T @ x) - y), axis=1)\n",
    "    theta = theta - learning_rate * dtheta\n",
    "    if (abs(dtheta) - tolerance < 0).all():\n",
    "        break    \n",
    "    \n",
    "print(cnt)\n",
    "print(theta)"
   ]
  },
  {
   "cell_type": "code",
   "execution_count": 6,
   "metadata": {},
   "outputs": [
    {
     "name": "stdout",
     "output_type": "stream",
     "text": [
      "(1000,)\n"
     ]
    }
   ],
   "source": [
    "import numpy as np\n",
    "\n",
    "feature_size = 2\n",
    "data_size = 1000\n",
    "x_ori = np.random.normal(loc=0, scale=1, size=(feature_size, data_size))\n",
    "x = np.concatenate([np.ones((1, data_size)), x_ori])\n",
    "\n",
    "theta_ori = np.arange(start=4, stop=4+feature_size)\n",
    "z = theta_ori.T @ x_ori + 3\n",
    "z = z.squeeze()\n",
    "pr = 1/(1+np.exp(-z))\n",
    "y = np.random.binomial(n=1, p=pr)\n",
    "print(y.shape)"
   ]
  }
 ],
 "metadata": {
  "kernelspec": {
   "display_name": "Python 3",
   "language": "python",
   "name": "python3"
  },
  "language_info": {
   "codemirror_mode": {
    "name": "ipython",
    "version": 3
   },
   "file_extension": ".py",
   "mimetype": "text/x-python",
   "name": "python",
   "nbconvert_exporter": "python",
   "pygments_lexer": "ipython3",
   "version": "3.10.6"
  },
  "orig_nbformat": 4
 },
 "nbformat": 4,
 "nbformat_minor": 2
}
