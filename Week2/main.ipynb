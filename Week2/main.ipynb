{
 "cells": [
  {
   "attachments": {},
   "cell_type": "markdown",
   "metadata": {},
   "source": [
    "## Use normal learning rate"
   ]
  },
  {
   "cell_type": "code",
   "execution_count": 8,
   "metadata": {},
   "outputs": [
    {
     "name": "stdout",
     "output_type": "stream",
     "text": [
      "Learning rate:  0.001\n",
      "Number iterations:  6441\n",
      "[-7.99083268]\n",
      "[2.99873954]\n"
     ]
    }
   ],
   "source": [
    "import numpy as np\n",
    "\n",
    "x = np.random.normal(loc=0, scale=1, size=1000)\n",
    "y = -8*x + 3 + np.random.normal(loc=0, scale=0.01, size=1000)\n",
    "\n",
    "theta1 = np.random.random(size=1)\n",
    "theta2 = np.random.random(size=1)\n",
    "# learning_rate = 1/np.mean(x**2)\n",
    "learning_rate = 0.001\n",
    "print(\"Learning rate: \", learning_rate)\n",
    "tolerance = 0.01\n",
    "cnt = 0\n",
    "while True:\n",
    "    cnt += 1\n",
    "    dtheta1 = np.mean((theta1 * x + theta2 - y) * x)  \n",
    "    dtheta2 = np.mean(theta1 * x + theta2 - y)\n",
    "    theta1 = theta1 - learning_rate * dtheta1\n",
    "    theta2 = theta2 - learning_rate * dtheta2\n",
    "    if abs(dtheta1) < tolerance and abs(dtheta2) < tolerance:\n",
    "        break    \n",
    "    \n",
    "print(\"Number iterations: \", cnt)\n",
    "print(theta1)\n",
    "print(theta2)"
   ]
  },
  {
   "attachments": {},
   "cell_type": "markdown",
   "metadata": {},
   "source": [
    "## Use Hessian as learning rate"
   ]
  },
  {
   "cell_type": "code",
   "execution_count": 9,
   "metadata": {},
   "outputs": [
    {
     "name": "stdout",
     "output_type": "stream",
     "text": [
      "Learning rate:  0.9701422668537839\n",
      "Number iterations:  3\n",
      "[-7.99961733]\n",
      "[2.99873954]\n"
     ]
    }
   ],
   "source": [
    "import numpy as np\n",
    "\n",
    "x = np.random.normal(loc=0, scale=1, size=1000)\n",
    "y = -8*x + 3 + np.random.normal(loc=0, scale=0.01, size=1000)\n",
    "\n",
    "# y_hat = theta1 * x + theta0\n",
    "theta1 = np.random.random(size=1)\n",
    "theta0 = np.random.random(size=1)\n",
    "learning_rate = 1/np.mean(x**2)\n",
    "# learning_rate = 0.001\n",
    "print(\"Learning rate: \", learning_rate)\n",
    "tolerance = 0.01\n",
    "cnt = 0\n",
    "while True:\n",
    "    cnt += 1\n",
    "    dtheta1 = np.mean((theta1 * x + theta0 - y) * x)  \n",
    "    dtheta0 = np.mean(theta1 * x + theta0 - y)\n",
    "    theta1 = theta1 - learning_rate * dtheta1\n",
    "    theta0 = theta0 - learning_rate * dtheta0\n",
    "    if abs(dtheta1) < tolerance and abs(dtheta0) < tolerance:\n",
    "        break    \n",
    "    \n",
    "print(\"Number iterations: \", cnt)\n",
    "print(theta1)\n",
    "print(theta2)"
   ]
  }
 ],
 "metadata": {
  "kernelspec": {
   "display_name": "Python 3",
   "language": "python",
   "name": "python3"
  },
  "language_info": {
   "codemirror_mode": {
    "name": "ipython",
    "version": 3
   },
   "file_extension": ".py",
   "mimetype": "text/x-python",
   "name": "python",
   "nbconvert_exporter": "python",
   "pygments_lexer": "ipython3",
   "version": "3.10.6"
  },
  "orig_nbformat": 4
 },
 "nbformat": 4,
 "nbformat_minor": 2
}
