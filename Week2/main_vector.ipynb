{
 "cells": [
  {
   "attachments": {},
   "cell_type": "markdown",
   "metadata": {},
   "source": [
    "## Use normal learning rate"
   ]
  },
  {
   "cell_type": "code",
   "execution_count": 80,
   "metadata": {},
   "outputs": [
    {
     "name": "stdout",
     "output_type": "stream",
     "text": [
      "635\n",
      "[2.99420545 3.98938571 4.99275705]\n"
     ]
    }
   ],
   "source": [
    "import numpy as np\n",
    "\n",
    "feature_size = 2\n",
    "data_size = 500\n",
    "x_ori = np.random.normal(loc=0, scale=1, size=(feature_size, data_size))\n",
    "x = np.concatenate([np.ones((1, data_size)), x_ori])\n",
    "\n",
    "theta_ori = np.arange(start=4, stop=4+feature_size)\n",
    "y = theta_ori.T @ x_ori + 3\n",
    "y = y.squeeze()\n",
    "\n",
    "theta = np.random.random(size=(feature_size+1))\n",
    "# learning_rate = 1/np.mean(x**2)\n",
    "learning_rate = 0.01\n",
    "tolerance = 0.01\n",
    "cnt = 0\n",
    "while True:\n",
    "    cnt += 1\n",
    "    dtheta = np.mean(x * (theta.T @ x - y), axis=1)\n",
    "    theta = theta - learning_rate * dtheta\n",
    "    if (abs(dtheta) - tolerance < 0).all():\n",
    "        break    \n",
    "    \n",
    "print(cnt)\n",
    "print(theta)"
   ]
  },
  {
   "attachments": {},
   "cell_type": "markdown",
   "metadata": {},
   "source": [
    "## Use Hessian as learning rate "
   ]
  },
  {
   "cell_type": "code",
   "execution_count": 84,
   "metadata": {},
   "outputs": [
    {
     "name": "stdout",
     "output_type": "stream",
     "text": [
      "(3, 500)\n",
      "1.0077441321084672\n",
      "4\n",
      "[3.00000244 3.99995789 4.99995709]\n"
     ]
    }
   ],
   "source": [
    "import numpy as np\n",
    "\n",
    "feature_size = 2\n",
    "data_size = 500\n",
    "x_ori = np.random.normal(loc=0, scale=1, size=(feature_size, data_size))\n",
    "x = np.concatenate([np.ones((1, data_size)), x_ori])\n",
    "\n",
    "theta_ori = np.arange(start=4, stop=4+feature_size)\n",
    "y = theta_ori.T @ x_ori + 3\n",
    "y = y.squeeze()\n",
    "\n",
    "theta = np.random.random(size=(feature_size+1))\n",
    "learning_rate = 1/np.mean(x**2)\n",
    "# learning_rate = 0.01\n",
    "tolerance = 0.01\n",
    "cnt = 0\n",
    "while True:\n",
    "    cnt += 1\n",
    "    dtheta = np.mean(x * (theta.T @ x - y), axis=1)\n",
    "    theta = theta - learning_rate * dtheta\n",
    "    if (abs(dtheta) - tolerance < 0).all():\n",
    "        break    \n",
    "    \n",
    "print(cnt)\n",
    "print(theta)"
   ]
  }
 ],
 "metadata": {
  "kernelspec": {
   "display_name": "Python 3",
   "language": "python",
   "name": "python3"
  },
  "language_info": {
   "codemirror_mode": {
    "name": "ipython",
    "version": 3
   },
   "file_extension": ".py",
   "mimetype": "text/x-python",
   "name": "python",
   "nbconvert_exporter": "python",
   "pygments_lexer": "ipython3",
   "version": "3.10.6"
  },
  "orig_nbformat": 4
 },
 "nbformat": 4,
 "nbformat_minor": 2
}
